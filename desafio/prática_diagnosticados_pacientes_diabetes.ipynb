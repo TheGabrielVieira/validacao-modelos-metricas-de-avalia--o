{
 "cells": [
  {
   "cell_type": "markdown",
   "metadata": {
    "id": "_kwAaQ36gLQ1"
   },
   "source": [
    "### Sobre o notebook\n",
    "\n",
    "Esse notebook contém diversos desafios envolvendo os aprendizados de cada aula. É um notebook construído com o enunciado de cada desafio e com espaço para construir e executar suas soluções. Se for necessário adicionar mais células de código para solucionar o desafio, fique à vontade para acrescentar."
   ]
  },
  {
   "cell_type": "markdown",
   "metadata": {
    "id": "fbQaJ7XHqd2p"
   },
   "source": [
    "# Aula 1"
   ]
  },
  {
   "cell_type": "markdown",
   "metadata": {
    "id": "XXpTDkQmqgGT"
   },
   "source": [
    "### Desafio 1\n",
    "\n",
    "Faça a leitura da base de dados de diabetes e realize a divisão dos dados em variáveis explicativas e variável alvo (x e y)."
   ]
  },
  {
   "cell_type": "code",
   "execution_count": 1,
   "metadata": {
    "id": "o-clr688LDl2"
   },
   "outputs": [],
   "source": [
    "import pandas as pd"
   ]
  },
  {
   "cell_type": "code",
   "execution_count": 2,
   "metadata": {},
   "outputs": [],
   "source": [
    "df = pd.read_csv('diabetes.csv')"
   ]
  },
  {
   "cell_type": "code",
   "execution_count": 3,
   "metadata": {},
   "outputs": [
    {
     "data": {
      "text/html": [
       "<div>\n",
       "<style scoped>\n",
       "    .dataframe tbody tr th:only-of-type {\n",
       "        vertical-align: middle;\n",
       "    }\n",
       "\n",
       "    .dataframe tbody tr th {\n",
       "        vertical-align: top;\n",
       "    }\n",
       "\n",
       "    .dataframe thead th {\n",
       "        text-align: right;\n",
       "    }\n",
       "</style>\n",
       "<table border=\"1\" class=\"dataframe\">\n",
       "  <thead>\n",
       "    <tr style=\"text-align: right;\">\n",
       "      <th></th>\n",
       "      <th>glicemia</th>\n",
       "      <th>pressao_sanguinea</th>\n",
       "      <th>dobra_cutane_triceps</th>\n",
       "      <th>insulina</th>\n",
       "      <th>imc</th>\n",
       "      <th>diabetes</th>\n",
       "    </tr>\n",
       "  </thead>\n",
       "  <tbody>\n",
       "    <tr>\n",
       "      <th>0</th>\n",
       "      <td>66</td>\n",
       "      <td>23</td>\n",
       "      <td>94</td>\n",
       "      <td>28.1</td>\n",
       "      <td>0.167</td>\n",
       "      <td>0</td>\n",
       "    </tr>\n",
       "    <tr>\n",
       "      <th>1</th>\n",
       "      <td>40</td>\n",
       "      <td>35</td>\n",
       "      <td>168</td>\n",
       "      <td>43.1</td>\n",
       "      <td>2.288</td>\n",
       "      <td>1</td>\n",
       "    </tr>\n",
       "    <tr>\n",
       "      <th>2</th>\n",
       "      <td>50</td>\n",
       "      <td>32</td>\n",
       "      <td>88</td>\n",
       "      <td>31.0</td>\n",
       "      <td>0.248</td>\n",
       "      <td>1</td>\n",
       "    </tr>\n",
       "    <tr>\n",
       "      <th>3</th>\n",
       "      <td>70</td>\n",
       "      <td>45</td>\n",
       "      <td>543</td>\n",
       "      <td>30.5</td>\n",
       "      <td>0.158</td>\n",
       "      <td>1</td>\n",
       "    </tr>\n",
       "    <tr>\n",
       "      <th>4</th>\n",
       "      <td>60</td>\n",
       "      <td>23</td>\n",
       "      <td>846</td>\n",
       "      <td>30.1</td>\n",
       "      <td>0.398</td>\n",
       "      <td>1</td>\n",
       "    </tr>\n",
       "  </tbody>\n",
       "</table>\n",
       "</div>"
      ],
      "text/plain": [
       "   glicemia  pressao_sanguinea  dobra_cutane_triceps  insulina    imc  \\\n",
       "0        66                 23                    94      28.1  0.167   \n",
       "1        40                 35                   168      43.1  2.288   \n",
       "2        50                 32                    88      31.0  0.248   \n",
       "3        70                 45                   543      30.5  0.158   \n",
       "4        60                 23                   846      30.1  0.398   \n",
       "\n",
       "   diabetes  \n",
       "0         0  \n",
       "1         1  \n",
       "2         1  \n",
       "3         1  \n",
       "4         1  "
      ]
     },
     "execution_count": 3,
     "metadata": {},
     "output_type": "execute_result"
    }
   ],
   "source": [
    "df.head()"
   ]
  },
  {
   "cell_type": "code",
   "execution_count": 4,
   "metadata": {},
   "outputs": [],
   "source": [
    "X = df.drop('diabetes', axis=1)\n",
    "y = df['diabetes']"
   ]
  },
  {
   "cell_type": "markdown",
   "metadata": {
    "id": "dn6U1p70qw7p"
   },
   "source": [
    "### Desafio 2\n",
    "\n",
    "Realize a divisão dos dados entre treino e teste."
   ]
  },
  {
   "cell_type": "code",
   "execution_count": 5,
   "metadata": {
    "id": "AKqvmM8QXkHW"
   },
   "outputs": [],
   "source": [
    "from sklearn.model_selection import train_test_split"
   ]
  },
  {
   "cell_type": "code",
   "execution_count": 6,
   "metadata": {},
   "outputs": [],
   "source": [
    "X, X_test, y, y_test = train_test_split(X, y, stratify=y, test_size=0.05, random_state=5)\n",
    "X_train, X_val, y_train, y_val = train_test_split(X, y, stratify=y, random_state=5)"
   ]
  },
  {
   "cell_type": "markdown",
   "metadata": {
    "id": "IcmuQBIyxHc8"
   },
   "source": [
    "### Desafio 3\n",
    "\n",
    "Crie 2 modelos utilizando os algoritmos [DecisionTreeClassifier](https://scikit-learn.org/stable/modules/generated/sklearn.tree.DecisionTreeClassifier.html) e [RandomForestClassifer](https://scikit-learn.org/stable/modules/generated/sklearn.ensemble.RandomForestClassifier.html) e avalie a acurácia de treino e teste, escolhendo valores para o parâmetro `max_depth` para os modelos não se especializarem demais no padrão dos dados de treino."
   ]
  },
  {
   "cell_type": "code",
   "execution_count": 7,
   "metadata": {
    "id": "YPeQmyV1YhwA"
   },
   "outputs": [],
   "source": [
    "from sklearn.tree import DecisionTreeClassifier\n",
    "from sklearn.ensemble import RandomForestClassifier"
   ]
  },
  {
   "cell_type": "code",
   "execution_count": 8,
   "metadata": {},
   "outputs": [],
   "source": [
    "tree = DecisionTreeClassifier(max_depth=3)\n",
    "random_forest = RandomForestClassifier(max_depth=2)"
   ]
  },
  {
   "cell_type": "code",
   "execution_count": 9,
   "metadata": {},
   "outputs": [
    {
     "name": "stdout",
     "output_type": "stream",
     "text": [
      "Acurácia de treino: 0.7571428571428571\n",
      "Acurácia de validacao: 0.776595744680851\n"
     ]
    }
   ],
   "source": [
    "tree.fit(X_train, y_train)\n",
    "print(f'Acurácia de treino: {tree.score(X_train, y_train)}')\n",
    "print(f'Acurácia de validacao: {tree.score(X_val, y_val)}')"
   ]
  },
  {
   "cell_type": "code",
   "execution_count": 10,
   "metadata": {},
   "outputs": [
    {
     "name": "stdout",
     "output_type": "stream",
     "text": [
      "Acurácia de treino: 0.7392857142857143\n",
      "Acurácia de validacao: 0.7021276595744681\n"
     ]
    }
   ],
   "source": [
    "random_forest.fit(X_train, y_train)\n",
    "print(f'Acurácia de treino: {random_forest.score(X_train, y_train)}')\n",
    "print(f'Acurácia de validacao: {random_forest.score(X_val, y_val)}')"
   ]
  },
  {
   "cell_type": "markdown",
   "metadata": {
    "id": "luUySRh5xNL1"
   },
   "source": [
    "### Desafio 4\n",
    "\n",
    "Construa uma matriz de confusão para cada um dos modelos para avaliar o desempenho das previsões."
   ]
  },
  {
   "cell_type": "code",
   "execution_count": 11,
   "metadata": {
    "id": "_sufI0QkZKvu"
   },
   "outputs": [],
   "source": [
    "from sklearn.metrics import ConfusionMatrixDisplay"
   ]
  },
  {
   "cell_type": "code",
   "execution_count": 12,
   "metadata": {},
   "outputs": [
    {
     "data": {
      "image/png": "[encoded data removed]",
      "text/plain": [
       "<Figure size 640x480 with 2 Axes>"
      ]
     },
     "metadata": {},
     "output_type": "display_data"
    }
   ],
   "source": [
    "tree_predict = tree.predict(X_val)\n",
    "ConfusionMatrixDisplay.from_predictions(y_val, tree_predict);"
   ]
  },
  {
   "cell_type": "code",
   "execution_count": 13,
   "metadata": {},
   "outputs": [
    {
     "data": {
      "text/plain": [
       "<sklearn.metrics._plot.confusion_matrix.ConfusionMatrixDisplay at 0x2086efce990>"
      ]
     },
     "execution_count": 13,
     "metadata": {},
     "output_type": "execute_result"
    },
    {
     "data": {
      "image/png": "[encoded data removed]",
      "text/plain": [
       "<Figure size 640x480 with 2 Axes>"
      ]
     },
     "metadata": {},
     "output_type": "display_data"
    }
   ],
   "source": [
    "rf_predict = random_forest.predict(X_val)\n",
    "ConfusionMatrixDisplay.from_predictions(y_val, rf_predict)"
   ]
  },
  {
   "cell_type": "markdown",
   "metadata": {
    "id": "dQtdWeLPZ2qI"
   },
   "source": [
    "# Aula 2"
   ]
  },
  {
   "cell_type": "markdown",
   "metadata": {
    "id": "j3gbWXPaZ6b_"
   },
   "source": [
    "### Desafio 1\n",
    "\n",
    "Extraia as métricas acurácia, recall, precisão e F1-Score dos modelos de classificação gerados no desafio da aula 1."
   ]
  },
  {
   "cell_type": "code",
   "execution_count": 14,
   "metadata": {
    "id": "b-TqlLAeaKNH"
   },
   "outputs": [],
   "source": [
    "from sklearn.metrics import accuracy_score, recall_score, precision_score, f1_score"
   ]
  },
  {
   "cell_type": "code",
   "execution_count": 15,
   "metadata": {},
   "outputs": [
    {
     "name": "stdout",
     "output_type": "stream",
     "text": [
      "Acurácia (Decision Tree): 0.776595744680851\n",
      "Reccall (Decision Tree): 0.6774193548387096\n",
      "Precisão (Decision Tree): 0.65625\n",
      "F1_score (Decision Tree): 0.6666666666666666\n"
     ]
    }
   ],
   "source": [
    "tree_predict = tree.predict(X_val)\n",
    "print(f'Acurácia (Decision Tree): {accuracy_score(y_val, tree_predict)}')\n",
    "print(f'Reccall (Decision Tree): {recall_score(y_val, tree_predict)}')\n",
    "print(f'Precisão (Decision Tree): {precision_score(y_val, tree_predict)}')\n",
    "print(f'F1_score (Decision Tree): {f1_score(y_val, tree_predict)}')"
   ]
  },
  {
   "cell_type": "code",
   "execution_count": 16,
   "metadata": {},
   "outputs": [
    {
     "name": "stdout",
     "output_type": "stream",
     "text": [
      "Acurácia (Random Forest): 0.7021276595744681\n",
      "Reccall (Random Forest): 0.2903225806451613\n",
      "Precisão (Random Forest): 0.6\n",
      "F1_score (Random Forest): 0.391304347826087\n"
     ]
    }
   ],
   "source": [
    "rf_predict = random_forest.predict(X_val)\n",
    "print(f'Acurácia (Random Forest): {accuracy_score(y_val, rf_predict)}')\n",
    "print(f'Reccall (Random Forest): {recall_score(y_val, rf_predict)}')\n",
    "print(f'Precisão (Random Forest): {precision_score(y_val, rf_predict)}')\n",
    "print(f'F1_score (Random Forest): {f1_score(y_val, rf_predict)}')"
   ]
  },
  {
   "cell_type": "markdown",
   "metadata": {
    "id": "Iy6nX8iQZ_JJ"
   },
   "source": [
    "### Desafio 2\n",
    "\n",
    "Obtenha a curva ROC e a métrica AUC dos modelos de classificação gerados no desafio da aula 1, comparando as curvas no mesmo gráfico.\n",
    "\n",
    "*Como uma dica, vasculhe a documentação do `Scikit-learn` a partir deste [link](https://scikit-learn.org/stable/auto_examples/release_highlights/plot_release_highlights_0_22_0.html#new-plotting-api) e verifique uma forma de apresentar os resultados das curvas no mesmo gráfico usando o matplotlib*"
   ]
  },
  {
   "cell_type": "code",
   "execution_count": 17,
   "metadata": {
    "id": "CBfg1CYkdUFr"
   },
   "outputs": [],
   "source": [
    "from sklearn.metrics import RocCurveDisplay, roc_auc_score"
   ]
  },
  {
   "cell_type": "code",
   "execution_count": 18,
   "metadata": {},
   "outputs": [
    {
     "data": {
      "image/png": "[encoded data removed]",
      "text/plain": [
       "<Figure size 640x480 with 1 Axes>"
      ]
     },
     "metadata": {},
     "output_type": "display_data"
    }
   ],
   "source": [
    "cruva_ROC = RocCurveDisplay.from_predictions(y_val, tree_predict, name='Decision Tree')\n",
    "cruva_ROC = RocCurveDisplay.from_predictions(y_val, rf_predict, name='Random Forest', ax=cruva_ROC.ax_)"
   ]
  },
  {
   "cell_type": "code",
   "execution_count": 19,
   "metadata": {},
   "outputs": [
    {
     "name": "stdout",
     "output_type": "stream",
     "text": [
      "AUC (Decision Tree): 0.7514080901177674\n",
      "AUC (Random Forest): 0.5975422427035331\n"
     ]
    }
   ],
   "source": [
    "print(f'AUC (Decision Tree): {roc_auc_score(y_val, tree_predict)}')\n",
    "print(f'AUC (Random Forest): {roc_auc_score(y_val, rf_predict)}')"
   ]
  },
  {
   "cell_type": "markdown",
   "metadata": {
    "id": "MtAISYmrZ_VR"
   },
   "source": [
    "### Desafio 3\n",
    "\n",
    "Obtenha a curva precisão x recall e a métrica AP dos modelos de classificação gerados no desafio da aula 1, comparando as curvas no mesmo gráfico.\n",
    "\n",
    "*Como uma dica, vasculhe a documentação do `Scikit-learn` a partir deste [link](https://scikit-learn.org/stable/auto_examples/release_highlights/plot_release_highlights_0_22_0.html#new-plotting-api) e verifique uma forma de apresentar os resultados das curvas no mesmo gráfico usando o matplotlib*"
   ]
  },
  {
   "cell_type": "code",
   "execution_count": 20,
   "metadata": {},
   "outputs": [],
   "source": [
    "from sklearn.metrics import PrecisionRecallDisplay, average_precision_score"
   ]
  },
  {
   "cell_type": "code",
   "execution_count": 21,
   "metadata": {},
   "outputs": [
    {
     "data": {
      "image/png": "[encoded data removed]",
      "text/plain": [
       "<Figure size 640x480 with 1 Axes>"
      ]
     },
     "metadata": {},
     "output_type": "display_data"
    }
   ],
   "source": [
    "curva_precision_recall = PrecisionRecallDisplay.from_predictions(y_val, tree_predict, name='Decision Tree')\n",
    "curva_precision_recall = PrecisionRecallDisplay.from_predictions(y_val, rf_predict, name='Random Forest', ax=curva_precision_recall.ax_)"
   ]
  },
  {
   "cell_type": "code",
   "execution_count": 22,
   "metadata": {
    "id": "n5UUgmk4af0I"
   },
   "outputs": [
    {
     "name": "stdout",
     "output_type": "stream",
     "text": [
      "AP (Decision Tree): 0.5509394303363074\n",
      "AP (Random Forest): 0.40823610157858614\n"
     ]
    }
   ],
   "source": [
    "print(f'AP (Decision Tree): {average_precision_score(y_val, tree_predict)}')\n",
    "print(f'AP (Random Forest): {average_precision_score(y_val, rf_predict)}')"
   ]
  },
  {
   "cell_type": "markdown",
   "metadata": {
    "id": "QC-mYuowZ_YO"
   },
   "source": [
    "### Desafio 4\n",
    "\n",
    "Gere os relatórios de métricas dos modelos de classificação gerados no desafio da aula 1."
   ]
  },
  {
   "cell_type": "code",
   "execution_count": 23,
   "metadata": {
    "id": "AZIfQPpJZ3rG"
   },
   "outputs": [],
   "source": [
    "from sklearn.metrics import classification_report"
   ]
  },
  {
   "cell_type": "code",
   "execution_count": 24,
   "metadata": {},
   "outputs": [
    {
     "name": "stdout",
     "output_type": "stream",
     "text": [
      "Decision Tree\n",
      "              precision    recall  f1-score   support\n",
      "\n",
      "           0       0.84      0.83      0.83        63\n",
      "           1       0.66      0.68      0.67        31\n",
      "\n",
      "    accuracy                           0.78        94\n",
      "   macro avg       0.75      0.75      0.75        94\n",
      "weighted avg       0.78      0.78      0.78        94\n",
      "\n",
      "Random Forest\n",
      "              precision    recall  f1-score   support\n",
      "\n",
      "           0       0.72      0.90      0.80        63\n",
      "           1       0.60      0.29      0.39        31\n",
      "\n",
      "    accuracy                           0.70        94\n",
      "   macro avg       0.66      0.60      0.60        94\n",
      "weighted avg       0.68      0.70      0.67        94\n",
      "\n"
     ]
    }
   ],
   "source": [
    "print('Decision Tree')\n",
    "print(classification_report(y_val, tree_predict))\n",
    "print('Random Forest')\n",
    "print(classification_report(y_val, rf_predict))"
   ]
  },
  {
   "cell_type": "markdown",
   "metadata": {
    "id": "1uD6CKpmk-ud"
   },
   "source": [
    "# Aula 3"
   ]
  },
  {
   "cell_type": "markdown",
   "metadata": {
    "id": "_ksJQ1Ca9Alx"
   },
   "source": [
    "### Desafio 1\n",
    "\n",
    "Crie uma função para calcular o intervalo de confiança dos resultados de uma validação cruzada com 2 desvios padrão. A função precisa ter um parâmetro para receber uma lista com os desempenhos da validação cruzada e outro para apresentar o nome do modelo utilizado na validação cruzada. Exemplo de retorno da função:\n",
    "\n",
    "> Intervalo de confiança (\"nome do modelo\"): [\"valor mínimo do intervalo\", \"valor máximo do intervalo\"]\n",
    "\n"
   ]
  },
  {
   "cell_type": "code",
   "execution_count": 25,
   "metadata": {
    "id": "Bg7Uh6QyTyB5"
   },
   "outputs": [],
   "source": [
    "def intervalo_conf(resultados, nome_modelo):\n",
    "    media = resultados.mean()\n",
    "    desvio_padrao = resultados.std()\n",
    "    print(f'Intervalo de confianca ({nome_modelo}): [{media - 2*desvio_padrao}, {min(media + 2*desvio_padrao, 1)}]')"
   ]
  },
  {
   "cell_type": "markdown",
   "metadata": {
    "id": "aA2RAJvGlCM1"
   },
   "source": [
    "### Desafio 2\n",
    "\n",
    "Avalie o desempenho dos modelos com um intervalo de confiança utilizando a validação cruzada com o método [`KFold`](https://scikit-learn.org/stable/modules/generated/sklearn.model_selection.KFold.html), usando 10 partes e embaralhando os dados antes da separação. Use o método [`cross_val_score`](https://scikit-learn.org/stable/modules/generated/sklearn.model_selection.cross_val_score.html) que não retorna o tempo de execução, apenas as métricas."
   ]
  },
  {
   "cell_type": "code",
   "execution_count": 26,
   "metadata": {
    "id": "1jp9GpFwnR3i"
   },
   "outputs": [],
   "source": [
    "from sklearn.model_selection import cross_val_score, KFold"
   ]
  },
  {
   "cell_type": "code",
   "execution_count": 27,
   "metadata": {},
   "outputs": [
    {
     "name": "stdout",
     "output_type": "stream",
     "text": [
      "Intervalo de confianca (Decision Tree): [0.5337181765177326, 0.8684155361422958]\n",
      "Intervalo de confianca (Random Forest): [0.5805030922905804, 0.8250445606254936]\n"
     ]
    }
   ],
   "source": [
    "tree = DecisionTreeClassifier(max_depth=3)\n",
    "random_forest = RandomForestClassifier(max_depth=2)\n",
    "\n",
    "kf = KFold(n_splits=10, shuffle=True, random_state=5)\n",
    "\n",
    "resultado_tree = cross_val_score(tree, X, y, cv=kf)\n",
    "resultado_rf = cross_val_score(random_forest, X, y, cv=kf)\n",
    "\n",
    "intervalo_conf(resultado_tree, 'Decision Tree')\n",
    "intervalo_conf(resultado_rf, 'Random Forest')"
   ]
  },
  {
   "cell_type": "markdown",
   "metadata": {
    "id": "FXHAOmL4lFBp"
   },
   "source": [
    "### Desafio 3\n",
    "\n",
    "Avalie o desempenho dos modelos com um intervalo de confiança utilizando a validação cruzada (`cross_val_score`) com o método [`StratifiedKFold`](https://scikit-learn.org/stable/modules/generated/sklearn.model_selection.StratifiedKFold.html#sklearn.model_selection.StratifiedKFold), usando 10 partes e embaralhando os dados antes da separação e avaliando a métrica F1-Score."
   ]
  },
  {
   "cell_type": "code",
   "execution_count": 28,
   "metadata": {
    "id": "QeAunVFjnSOi"
   },
   "outputs": [],
   "source": [
    "from sklearn.model_selection import cross_val_score, StratifiedKFold"
   ]
  },
  {
   "cell_type": "code",
   "execution_count": 29,
   "metadata": {},
   "outputs": [
    {
     "name": "stdout",
     "output_type": "stream",
     "text": [
      "Intervalo de confianca (Decision Tree): [0.271659875902482, 0.7462406274736961]\n",
      "Intervalo de confianca (Random Forest): [0.1459008699042171, 0.5686924315311895]\n"
     ]
    }
   ],
   "source": [
    "tree = DecisionTreeClassifier(max_depth=3)\n",
    "random_forest = RandomForestClassifier(max_depth=2)\n",
    "\n",
    "skf = StratifiedKFold(n_splits=10, shuffle=True, random_state=5)\n",
    "\n",
    "resultado_tree = cross_val_score(tree, X, y, cv=skf, scoring='f1')\n",
    "resultado_rf = cross_val_score(random_forest, X, y, cv=skf, scoring='f1')\n",
    "\n",
    "intervalo_conf(resultado_tree, 'Decision Tree')\n",
    "intervalo_conf(resultado_rf, 'Random Forest')"
   ]
  },
  {
   "cell_type": "markdown",
   "metadata": {
    "id": "PffR585slFHS"
   },
   "source": [
    "### Desafio 4\n",
    "\n",
    "Avalie o desempenho dos modelos utilizando a validação cruzada (`cross_val_score`) com o método [`LeaveOneOut`](https://scikit-learn.org/stable/modules/generated/sklearn.model_selection.LeaveOneOut.html).\n",
    "\n",
    "O método LeaveOneOut vai gerar um modelo para cada uma das linhas da base de dados, portanto a lista de resultados terá taxa de acerto apenas de 0 ou 1 para cada modelo. Dessa forma, extraia apenas a média do resultado, sem utilizar o intervalo de confiança.\n"
   ]
  },
  {
   "cell_type": "code",
   "execution_count": 30,
   "metadata": {
    "id": "2Fu1i0l9T2F5"
   },
   "outputs": [],
   "source": [
    "from sklearn.model_selection import cross_val_score, LeaveOneOut"
   ]
  },
  {
   "cell_type": "code",
   "execution_count": 67,
   "metadata": {},
   "outputs": [
    {
     "name": "stdout",
     "output_type": "stream",
     "text": [
      "Acurácia média (Decision Tree): 0.7085561497326203\n",
      "Acurácia média (Random Forest): 0.6844919786096256\n"
     ]
    }
   ],
   "source": [
    "tree = DecisionTreeClassifier(max_depth=3)\n",
    "random_forest = RandomForestClassifier(max_depth=2)\n",
    "\n",
    "loo = LeaveOneOut()\n",
    "\n",
    "resultado_tree = cross_val_score(tree, X, y, cv=loo)\n",
    "resultado_rf = cross_val_score(random_forest, X, y,cv=loo)\n",
    "\n",
    "print(f'Acurácia média (Decision Tree): {resultado_tree.mean()}')\n",
    "print(f'Acurácia média (Random Forest): {resultado_rf.mean()}')"
   ]
  },
  {
   "cell_type": "markdown",
   "metadata": {
    "id": "LkuY1LZDJnnE"
   },
   "source": [
    "# Aula 4"
   ]
  },
  {
   "cell_type": "markdown",
   "metadata": {
    "id": "8H-XGS58Jo97"
   },
   "source": [
    "### Desafio 1\n",
    "\n",
    "Verifique a proporção de dados da variável alvo do conjunto de dados de diabetes. Essa análise pode ser feita a partir da porcentagem de dados ou com a utilização de um gráfico de contagem para entender se há um desbalanceamento de dados."
   ]
  },
  {
   "cell_type": "code",
   "execution_count": 31,
   "metadata": {
    "id": "ymR1fC95T2l5"
   },
   "outputs": [
    {
     "data": {
      "text/plain": [
       "diabetes\n",
       "0    0.670051\n",
       "1    0.329949\n",
       "Name: proportion, dtype: float64"
      ]
     },
     "execution_count": 31,
     "metadata": {},
     "output_type": "execute_result"
    }
   ],
   "source": [
    "df['diabetes'].value_counts(normalize=True)"
   ]
  },
  {
   "cell_type": "code",
   "execution_count": 34,
   "metadata": {},
   "outputs": [
    {
     "data": {
      "image/png": "[encoded data removed]",
      "text/plain": [
       "<Figure size 640x480 with 1 Axes>"
      ]
     },
     "metadata": {},
     "output_type": "display_data"
    }
   ],
   "source": [
    "import seaborn as sns\n",
    "\n",
    "sns.countplot(df, x = 'diabetes');"
   ]
  },
  {
   "cell_type": "markdown",
   "metadata": {
    "id": "OMJ-IW4NJr4M"
   },
   "source": [
    "### Desafio 2\n",
    "\n",
    "Utilize um [`pipeline`](https://imbalanced-learn.org/stable/references/generated/imblearn.pipeline.Pipeline.html) contendo ajuste do modelo e o balanceamento dos dados usando o oversampling com [`SMOTE`](https://imbalanced-learn.org/stable/references/generated/imblearn.over_sampling.SMOTE.html), obtendo a média do F1-Score de uma validação cruzada com `StratifiedKFold`."
   ]
  },
  {
   "cell_type": "code",
   "execution_count": 35,
   "metadata": {
    "id": "MXJSDAQUT3up"
   },
   "outputs": [],
   "source": [
    "from imblearn.pipeline import Pipeline as imbpipeline\n",
    "from imblearn.over_sampling import SMOTE"
   ]
  },
  {
   "cell_type": "code",
   "execution_count": 37,
   "metadata": {},
   "outputs": [
    {
     "name": "stdout",
     "output_type": "stream",
     "text": [
      "F1 (Decision Tree):0.5804900858582485\n"
     ]
    }
   ],
   "source": [
    "tree = DecisionTreeClassifier(max_depth=3)\n",
    "pipeline = imbpipeline([('oversample', SMOTE()), ('Tree', tree)])\n",
    "skf = StratifiedKFold(n_splits=10, shuffle=True, random_state=5)\n",
    "resultado_tree = cross_val_score(pipeline, X, y, cv=skf, scoring='f1')\n",
    "print(f'F1 (Decision Tree):{resultado_tree.mean()}')"
   ]
  },
  {
   "cell_type": "code",
   "execution_count": 40,
   "metadata": {},
   "outputs": [
    {
     "name": "stdout",
     "output_type": "stream",
     "text": [
      "F1 (Random Forest):0.6224017609817405\n"
     ]
    }
   ],
   "source": [
    "random_forest = RandomForestClassifier(max_depth = 2)\n",
    "pipeline = imbpipeline([('oversample', SMOTE()), ('random_forest', random_forest)])\n",
    "skf = StratifiedKFold(n_splits = 10, shuffle = True, random_state = 5)\n",
    "resultado_rf = cross_val_score(pipeline, X, y, cv = skf, scoring = 'f1')\n",
    "print(f'F1 (Random Forest):{resultado_rf.mean()}')"
   ]
  },
  {
   "cell_type": "markdown",
   "metadata": {
    "id": "rSKJ6r9gJuq0"
   },
   "source": [
    "### Desafio 3\n",
    "\n",
    " Utilize um [`pipeline`](https://imbalanced-learn.org/stable/references/generated/imblearn.pipeline.Pipeline.html) contendo ajuste do modelo e o balanceamento dos dados usando o undersampling com [`Nearmiss`](https://imbalanced-learn.org/stable/references/generated/imblearn.over_sampling.SMOTE.html) na sua versão 3, obtendo a média do F1-Score de uma validação cruzada com `StratifiedKFold`."
   ]
  },
  {
   "cell_type": "code",
   "execution_count": 42,
   "metadata": {
    "id": "FA2DCsQbT5Go"
   },
   "outputs": [],
   "source": [
    "from imblearn.pipeline import Pipeline as imbpipeline\n",
    "from imblearn.under_sampling import NearMiss"
   ]
  },
  {
   "cell_type": "code",
   "execution_count": 54,
   "metadata": {},
   "outputs": [
    {
     "name": "stdout",
     "output_type": "stream",
     "text": [
      "F1 (Decision Tree): 0.5460263484053807\n"
     ]
    }
   ],
   "source": [
    "tree = DecisionTreeClassifier(max_depth=3)\n",
    "pipeline = imbpipeline([('unedersample', NearMiss(version=3)), ('Tree', tree)])\n",
    "skf = StratifiedKFold(n_splits=10, shuffle=True, random_state=5)\n",
    "resultado_tree = cross_val_score(pipeline, X, y, cv=skf, scoring='f1')\n",
    "print(f'F1 (Decision Tree): {resultado_tree.mean()}')"
   ]
  },
  {
   "cell_type": "code",
   "execution_count": 55,
   "metadata": {},
   "outputs": [
    {
     "name": "stdout",
     "output_type": "stream",
     "text": [
      "F1 (Random Forest): 0.6145567793648995\n"
     ]
    }
   ],
   "source": [
    "random_forest = RandomForestClassifier(max_depth=2)\n",
    "pipeline = imbpipeline([('undersample', NearMiss(version=3)), ('Random Forest', random_forest)])\n",
    "skf = StratifiedKFold(n_splits=10, shuffle=True, random_state=5)\n",
    "resultado_rf = cross_val_score(pipeline, X, y, cv=skf, scoring='f1')\n",
    "print(f'F1 (Random Forest): {resultado_rf.mean()}')"
   ]
  },
  {
   "cell_type": "markdown",
   "metadata": {
    "id": "6ZpXGQyPJwNl"
   },
   "source": [
    "### Desafio 4\n",
    "\n",
    "Escolha o modelo que obteve o melhor desempenho ao comparar as estratégias de oversampling e undersampling e realize o teste do modelo nos dados de teste que foram separados no início dos desafios."
   ]
  },
  {
   "cell_type": "code",
   "execution_count": 56,
   "metadata": {
    "id": "x7N_pyEuT6dh"
   },
   "outputs": [
    {
     "name": "stdout",
     "output_type": "stream",
     "text": [
      "              precision    recall  f1-score   support\n",
      "\n",
      "           0       0.80      0.62      0.70        13\n",
      "           1       0.50      0.71      0.59         7\n",
      "\n",
      "    accuracy                           0.65        20\n",
      "   macro avg       0.65      0.66      0.64        20\n",
      "weighted avg       0.70      0.65      0.66        20\n",
      "\n"
     ]
    },
    {
     "data": {
      "image/png": "[encoded data removed]",
      "text/plain": [
       "<Figure size 640x480 with 2 Axes>"
      ]
     },
     "metadata": {},
     "output_type": "display_data"
    }
   ],
   "source": [
    "undersample = NearMiss(version = 3)\n",
    "X_balanceado, y_balanceado = undersample.fit_resample(X, y)\n",
    "\n",
    "modelo = RandomForestClassifier(max_depth = 2)\n",
    "modelo.fit(X_balanceado, y_balanceado)\n",
    "y_previsto = modelo.predict(X_test)\n",
    "\n",
    "print(classification_report(y_test, y_previsto))\n",
    "ConfusionMatrixDisplay.from_predictions(y_test, y_previsto);"
   ]
  }
 ],
 "metadata": {
  "colab": {
   "authorship_tag": "ABX9TyMXnjQVNjaMipB0qKngZLrs",
   "provenance": []
  },
  "kernelspec": {
   "display_name": "Python (venv)",
   "language": "python",
   "name": "venv"
  },
  "language_info": {
   "codemirror_mode": {
    "name": "ipython",
    "version": 3
   },
   "file_extension": ".py",
   "mimetype": "text/x-python",
   "name": "python",
   "nbconvert_exporter": "python",
   "pygments_lexer": "ipython3",
   "version": "3.13.1"
  }
 },
 "nbformat": 4,
 "nbformat_minor": 0
}
